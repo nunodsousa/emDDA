{
 "cells": [
  {
   "cell_type": "code",
   "execution_count": 1,
   "id": "incorrect-frontier",
   "metadata": {},
   "outputs": [],
   "source": [
    "import numpy as np\n",
    "from scipy import sparse"
   ]
  },
  {
   "cell_type": "code",
   "execution_count": 2,
   "id": "ambient-stake",
   "metadata": {},
   "outputs": [],
   "source": [
    "N = 3000\n",
    "m = np.random.rand(N,N) + 1j*np.random.rand(N,N)\n",
    "n = np.random.rand(N,N) + 1j*np.random.rand(N,N)\n",
    "alpha = np.eye(N)*(np.random.rand()+1j*np.random.rand()) "
   ]
  },
  {
   "cell_type": "code",
   "execution_count": 5,
   "id": "difficult-consequence",
   "metadata": {},
   "outputs": [
    {
     "name": "stdout",
     "output_type": "stream",
     "text": [
      "1.02 s ± 22.4 ms per loop (mean ± std. dev. of 7 runs, 1 loop each)\n"
     ]
    }
   ],
   "source": [
    "%timeit s = np.dot(alpha,m) #Diagonal alpha"
   ]
  },
  {
   "cell_type": "code",
   "execution_count": 6,
   "id": "binding-vacuum",
   "metadata": {},
   "outputs": [
    {
     "name": "stdout",
     "output_type": "stream",
     "text": [
      "1.11 s ± 49.5 ms per loop (mean ± std. dev. of 7 runs, 1 loop each)\n"
     ]
    }
   ],
   "source": [
    "%timeit s = np.dot(m,n) # alpha being a N by N random complex matrix"
   ]
  },
  {
   "cell_type": "code",
   "execution_count": 15,
   "id": "arbitrary-detection",
   "metadata": {},
   "outputs": [],
   "source": [
    "def block_diag_kron(arr, num):\n",
    "    return np.kron(np.eye(num), arr)\n",
    "\n",
    "alpha = np.random.random((3,3)) + np.random.random((3,3))*1j\n",
    "alpha_t = block_diag_kron(alpha,1000)"
   ]
  },
  {
   "cell_type": "code",
   "execution_count": 16,
   "id": "enclosed-antigua",
   "metadata": {},
   "outputs": [
    {
     "name": "stdout",
     "output_type": "stream",
     "text": [
      "CPU times: user 3.77 s, sys: 12.8 ms, total: 3.79 s\n",
      "Wall time: 959 ms\n"
     ]
    },
    {
     "data": {
      "text/plain": [
       "array([[-0.01065721+0.96698618j,  0.45318491+1.68893588j,\n",
       "         0.53869039+2.26145021j, ..., -0.43323941+1.74985421j,\n",
       "        -0.43100068+1.62501864j,  0.27400717+2.42878526j],\n",
       "       [ 0.03496168+1.15684173j, -0.04426791+1.5741832j ,\n",
       "         0.12540445+1.68782105j, ..., -0.458199  +1.07064946j,\n",
       "        -0.5111663 +1.03610593j,  0.00741026+1.62684394j],\n",
       "       [ 0.13186923+0.89313317j, -0.04885273+1.15243688j,\n",
       "        -0.05121149+1.40972987j, ..., -0.3936448 +1.21620581j,\n",
       "        -0.63552086+0.67603662j,  0.02877452+1.28824705j],\n",
       "       ...,\n",
       "       [ 0.55544873+2.30397184j, -0.03780604+1.6956307j ,\n",
       "         0.70875691+1.16601423j, ...,  0.30278317+1.99360043j,\n",
       "        -0.23023586+2.21051752j,  0.13539092+2.33218339j],\n",
       "       [ 0.29904081+1.59832189j, -0.6280104 +1.2449533j ,\n",
       "         0.3492968 +1.27452308j, ..., -0.35922054+0.89363837j,\n",
       "        -0.83884129+1.42681118j,  0.02689061+1.38026961j],\n",
       "       [ 0.02867218+1.36995412j, -0.51858944+0.87700531j,\n",
       "         0.43336984+0.96133613j, ..., -0.23234491+0.78125061j,\n",
       "        -0.7000183 +0.9716405j , -0.09968421+1.28696696j]])"
      ]
     },
     "execution_count": 16,
     "metadata": {},
     "output_type": "execute_result"
    }
   ],
   "source": [
    "%time np.dot(alpha_t, m)"
   ]
  },
  {
   "cell_type": "code",
   "execution_count": null,
   "id": "surgical-instruction",
   "metadata": {},
   "outputs": [],
   "source": []
  }
 ],
 "metadata": {
  "kernelspec": {
   "display_name": "Python 3",
   "language": "python",
   "name": "python3"
  },
  "language_info": {
   "codemirror_mode": {
    "name": "ipython",
    "version": 3
   },
   "file_extension": ".py",
   "mimetype": "text/x-python",
   "name": "python",
   "nbconvert_exporter": "python",
   "pygments_lexer": "ipython3",
   "version": "3.8.5"
  }
 },
 "nbformat": 4,
 "nbformat_minor": 5
}
